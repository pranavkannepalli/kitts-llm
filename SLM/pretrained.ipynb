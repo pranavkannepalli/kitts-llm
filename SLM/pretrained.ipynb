{
 "cells": [
  {
   "cell_type": "code",
   "execution_count": 75,
   "metadata": {},
   "outputs": [],
   "source": [
    "from transformers import GPT2Tokenizer, GPTNeoForCausalLM, Trainer, TrainingArguments, AutoConfig\n",
    "import pandas as pd\n",
    "import torch\n",
    "from torch.utils.data import Dataset, DataLoader\n",
    "from transformers import TextGenerationPipeline"
   ]
  },
  {
   "cell_type": "code",
   "execution_count": 76,
   "metadata": {},
   "outputs": [],
   "source": [
    "tokenizer = GPT2Tokenizer.from_pretrained(\"EleutherAI/gpt-neo-125M\")\n",
    "tokenizer.pad_token = '[pad]'"
   ]
  },
  {
   "cell_type": "code",
   "execution_count": 77,
   "metadata": {},
   "outputs": [
    {
     "data": {
      "text/html": [
       "<div>\n",
       "<style scoped>\n",
       "    .dataframe tbody tr th:only-of-type {\n",
       "        vertical-align: middle;\n",
       "    }\n",
       "\n",
       "    .dataframe tbody tr th {\n",
       "        vertical-align: top;\n",
       "    }\n",
       "\n",
       "    .dataframe thead th {\n",
       "        text-align: right;\n",
       "    }\n",
       "</style>\n",
       "<table border=\"1\" class=\"dataframe\">\n",
       "  <thead>\n",
       "    <tr style=\"text-align: right;\">\n",
       "      <th></th>\n",
       "      <th>Unnamed: 0</th>\n",
       "      <th>input_text</th>\n",
       "      <th>output_label</th>\n",
       "    </tr>\n",
       "  </thead>\n",
       "  <tbody>\n",
       "    <tr>\n",
       "      <th>0</th>\n",
       "      <td>0</td>\n",
       "      <td>janu: brow I’m donna do it janu: I j got home ...</td>\n",
       "      <td>K cool</td>\n",
       "    </tr>\n",
       "    <tr>\n",
       "      <th>1</th>\n",
       "      <td>1</td>\n",
       "      <td>janu: I’m donna email Or Nguyen janu: W about ...</td>\n",
       "      <td>To or fine</td>\n",
       "    </tr>\n",
       "    <tr>\n",
       "      <th>2</th>\n",
       "      <td>2</td>\n",
       "      <td>janu: W about it YALL submit Pranav Kannepalli...</td>\n",
       "      <td>It’s all good</td>\n",
       "    </tr>\n",
       "    <tr>\n",
       "      <th>3</th>\n",
       "      <td>3</td>\n",
       "      <td>janu: I seem so reckless about this, sorry. I’...</td>\n",
       "      <td>Oh ok</td>\n",
       "    </tr>\n",
       "    <tr>\n",
       "      <th>4</th>\n",
       "      <td>4</td>\n",
       "      <td>Pranav Kannepalli: To or fine Pranav Kannepall...</td>\n",
       "      <td>I’m on a plane in</td>\n",
       "    </tr>\n",
       "    <tr>\n",
       "      <th>...</th>\n",
       "      <td>...</td>\n",
       "      <td>...</td>\n",
       "      <td>...</td>\n",
       "    </tr>\n",
       "    <tr>\n",
       "      <th>11874</th>\n",
       "      <td>224</td>\n",
       "      <td>Krishna Chintalapudi: Tomorrow evening is poss...</td>\n",
       "      <td>Went the link to your email</td>\n",
       "    </tr>\n",
       "    <tr>\n",
       "      <th>11875</th>\n",
       "      <td>225</td>\n",
       "      <td>Pranav Kannepalli: sounds good, what time work...</td>\n",
       "      <td>Krishna uncle?</td>\n",
       "    </tr>\n",
       "    <tr>\n",
       "      <th>11876</th>\n",
       "      <td>226</td>\n",
       "      <td>Krishna Chintalapudi: 530? Pranav Kannepalli: ...</td>\n",
       "      <td>sent a new link</td>\n",
       "    </tr>\n",
       "    <tr>\n",
       "      <th>11877</th>\n",
       "      <td>227</td>\n",
       "      <td>Pranav Kannepalli: sure that works for me Pran...</td>\n",
       "      <td>Krishna uncle, could we meet today or tomorrow...</td>\n",
       "    </tr>\n",
       "    <tr>\n",
       "      <th>11878</th>\n",
       "      <td>228</td>\n",
       "      <td>Pranav Kannepalli: Krishna uncle? Krishna Chin...</td>\n",
       "      <td>sounds good</td>\n",
       "    </tr>\n",
       "  </tbody>\n",
       "</table>\n",
       "<p>11879 rows × 3 columns</p>\n",
       "</div>"
      ],
      "text/plain": [
       "       Unnamed: 0                                         input_text  \\\n",
       "0               0  janu: brow I’m donna do it janu: I j got home ...   \n",
       "1               1  janu: I’m donna email Or Nguyen janu: W about ...   \n",
       "2               2  janu: W about it YALL submit Pranav Kannepalli...   \n",
       "3               3  janu: I seem so reckless about this, sorry. I’...   \n",
       "4               4  Pranav Kannepalli: To or fine Pranav Kannepall...   \n",
       "...           ...                                                ...   \n",
       "11874         224  Krishna Chintalapudi: Tomorrow evening is poss...   \n",
       "11875         225  Pranav Kannepalli: sounds good, what time work...   \n",
       "11876         226  Krishna Chintalapudi: 530? Pranav Kannepalli: ...   \n",
       "11877         227  Pranav Kannepalli: sure that works for me Pran...   \n",
       "11878         228  Pranav Kannepalli: Krishna uncle? Krishna Chin...   \n",
       "\n",
       "                                            output_label  \n",
       "0                                                 K cool  \n",
       "1                                             To or fine  \n",
       "2                                          It’s all good  \n",
       "3                                                  Oh ok  \n",
       "4                                      I’m on a plane in  \n",
       "...                                                  ...  \n",
       "11874                        Went the link to your email  \n",
       "11875                                     Krishna uncle?  \n",
       "11876                                    sent a new link  \n",
       "11877  Krishna uncle, could we meet today or tomorrow...  \n",
       "11878                                        sounds good  \n",
       "\n",
       "[11879 rows x 3 columns]"
      ]
     },
     "execution_count": 77,
     "metadata": {},
     "output_type": "execute_result"
    }
   ],
   "source": [
    "df = pd.read_csv('training_data.csv')\n",
    "df"
   ]
  },
  {
   "cell_type": "code",
   "execution_count": 78,
   "metadata": {},
   "outputs": [
    {
     "data": {
      "text/plain": [
       "{'input_ids': tensor([[13881,    84,    25,  4772,   314],\n",
       "         [13881,    84,    25,   314,   447],\n",
       "         [13881,    84,    25,   370,   546],\n",
       "         ...,\n",
       "         [   42, 37518,  2616,   609,   600],\n",
       "         [   47,  2596,   615,   509,  1236],\n",
       "         [   47,  2596,   615,   509,  1236]]),\n",
       " 'output_ids': tensor([[   42,  3608, 50256, 50256, 50256],\n",
       "         [ 2514,   393,  3734, 50256, 50256],\n",
       "         [ 1026,   447,   247,    82,   477],\n",
       "         ...,\n",
       "         [34086,   257,   649,  2792, 50256],\n",
       "         [   42, 37518,  2616,  7711,    11],\n",
       "         [   82,  3733,   922, 50256, 50256]])}"
      ]
     },
     "execution_count": 78,
     "metadata": {},
     "output_type": "execute_result"
    }
   ],
   "source": [
    "def tokenize_text():\n",
    "    input_ids = tokenizer(df['input_text'].astype(str).to_list(), padding='max_length', truncation=True, max_length=5, return_tensors='pt').input_ids\n",
    "    output_ids = tokenizer(df['output_label'].astype(str).to_list(), padding='max_length', truncation=True, max_length=5, return_tensors='pt').input_ids\n",
    "    return {\"input_ids\": input_ids, \"output_ids\": output_ids}\n",
    "\n",
    "# Apply tokenization\n",
    "tokenized_data = tokenize_text()\n",
    "\n",
    "# Tokenized dataset\n",
    "tokenized_data"
   ]
  },
  {
   "cell_type": "code",
   "execution_count": 79,
   "metadata": {},
   "outputs": [
    {
     "data": {
      "text/plain": [
       "{'input_ids': tensor([13881,    84,    25,  4772,   314]),\n",
       " 'labels': tensor([   42,  3608, 50256, 50256, 50256])}"
      ]
     },
     "execution_count": 79,
     "metadata": {},
     "output_type": "execute_result"
    }
   ],
   "source": [
    "class KittsLLMDataset(Dataset):\n",
    "    def __init__(self, tokenized_data):\n",
    "        self.data = tokenized_data\n",
    "    \n",
    "    def __len__(self):\n",
    "        return len(self.data)\n",
    "    \n",
    "    def __getitem__(self, idx):\n",
    "        return {\n",
    "            \"input_ids\": self.data['input_ids'][idx].squeeze(0),\n",
    "            \"labels\": self.data['output_ids'][idx].squeeze(0)\n",
    "        }\n",
    "    \n",
    "train_data = KittsLLMDataset(tokenized_data)\n",
    "train_data.__getitem__(0)"
   ]
  },
  {
   "cell_type": "code",
   "execution_count": 80,
   "metadata": {},
   "outputs": [],
   "source": [
    "model = GPTNeoForCausalLM.from_pretrained('EleutherAI/gpt-neo-125M')"
   ]
  },
  {
   "cell_type": "code",
   "execution_count": 81,
   "metadata": {},
   "outputs": [],
   "source": [
    "training_args = TrainingArguments(\n",
    "    output_dir='./pretrained_results', \n",
    "    num_train_epochs=3, \n",
    "    per_device_train_batch_size=8, \n",
    "    logging_dir='./pretrained_logs',\n",
    "    save_steps=10_000,\n",
    ")"
   ]
  },
  {
   "cell_type": "code",
   "execution_count": 82,
   "metadata": {},
   "outputs": [],
   "source": [
    "trainer = Trainer(\n",
    "    model=model,\n",
    "    args=training_args,\n",
    "    train_dataset=train_data\n",
    ")"
   ]
  },
  {
   "cell_type": "code",
   "execution_count": 83,
   "metadata": {},
   "outputs": [
    {
     "name": "stderr",
     "output_type": "stream",
     "text": [
      "100%|██████████| 3/3 [00:04<00:00,  1.66s/it]"
     ]
    },
    {
     "name": "stdout",
     "output_type": "stream",
     "text": [
      "{'train_runtime': 4.9038, 'train_samples_per_second': 1.224, 'train_steps_per_second': 0.612, 'train_loss': 6.415890375773112, 'epoch': 3.0}\n"
     ]
    },
    {
     "name": "stderr",
     "output_type": "stream",
     "text": [
      "\n"
     ]
    },
    {
     "data": {
      "text/plain": [
       "TrainOutput(global_step=3, training_loss=6.415890375773112, metrics={'train_runtime': 4.9038, 'train_samples_per_second': 1.224, 'train_steps_per_second': 0.612, 'total_flos': 15305103360.0, 'train_loss': 6.415890375773112, 'epoch': 3.0})"
      ]
     },
     "execution_count": 83,
     "metadata": {},
     "output_type": "execute_result"
    }
   ],
   "source": [
    "trainer.train()"
   ]
  },
  {
   "cell_type": "code",
   "execution_count": 91,
   "metadata": {},
   "outputs": [
    {
     "name": "stderr",
     "output_type": "stream",
     "text": [
      "Setting `pad_token_id` to `eos_token_id`:50256 for open-end generation.\n"
     ]
    },
    {
     "name": "stdout",
     "output_type": "stream",
     "text": [
      "tensor([[13881,    84,    25, 15902,    11,  1867,   338,  3205,    30,  1736,\n",
      "           272,   615,   509,  1236,   538, 36546,    25,   220,   198,   198,\n",
      "            40,  1101,   257,  1310, 10416,    13,   314,  1101,   407,  1654,\n",
      "           644,   262,  1917,   318,    13,   198]])\n",
      "janu: Hi, What's Up? Pranav Kannepalli: \n",
      "\n",
      "I'm a little confused. I'm not sure what the problem is.\n",
      "\n"
     ]
    }
   ],
   "source": [
    "input_text = \"janu: Hi, What's Up? Pranav Kannepalli: \"\n",
    "inputs = tokenizer(input_text, return_tensors=\"pt\")\n",
    "outputs = model.generate(**inputs, max_length=36)\n",
    "print(outputs)\n",
    "print(tokenizer.decode(outputs[0], skip_special_tokens=True))"
   ]
  }
 ],
 "metadata": {
  "kernelspec": {
   "display_name": "venv",
   "language": "python",
   "name": "python3"
  },
  "language_info": {
   "codemirror_mode": {
    "name": "ipython",
    "version": 3
   },
   "file_extension": ".py",
   "mimetype": "text/x-python",
   "name": "python",
   "nbconvert_exporter": "python",
   "pygments_lexer": "ipython3",
   "version": "3.11.6"
  }
 },
 "nbformat": 4,
 "nbformat_minor": 2
}
